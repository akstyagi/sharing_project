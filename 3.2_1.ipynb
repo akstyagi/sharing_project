{
 "cells": [
  {
   "cell_type": "code",
   "execution_count": 1,
   "metadata": {},
   "outputs": [],
   "source": [
    "import numpy as np  \n",
    "import matplotlib.pyplot as plt  \n",
    "import pandas as pd\n",
    "#from mlxtend.frequent_patterns import apriori\n",
    "from apyori import apriori"
   ]
  },
  {
   "cell_type": "code",
   "execution_count": 2,
   "metadata": {},
   "outputs": [
    {
     "name": "stdout",
     "output_type": "stream",
     "text": [
      "    No.   Outlook Temperature Humidity  Windy Play\n",
      "0     1     Sunny         Hot     High  False   No\n",
      "1     2     Sunny         Hot     High   True   No\n",
      "2     3  Overcast         Hot     High  False  Yes\n",
      "3     4      Rain        Mild     High  False  Yes\n",
      "4     5      Rain        Cool   Normal  False  Yes\n",
      "5     6      Rain        Cool   Normal   True   No\n",
      "6     7  Overcast        Cool   Normal   True  Yes\n",
      "7     8     Sunny        Mild     High  False   No\n",
      "8     9     Sunny        Cool   Normal  False  Yes\n",
      "9    10      Rain        Mild   Normal  False  Yes\n",
      "10   11     Sunny        Mild   Normal   True  Yes\n",
      "11   12  Overcast        Mild     High   True  Yes\n",
      "12   13  Overcast         Hot   Normal  False  Yes\n",
      "13   14      Rain        Mild     High   True   No\n"
     ]
    }
   ],
   "source": [
    "Dataset = pd.read_csv(\"Weather.csv\")\n",
    "#Dataset\n",
    "print(Dataset)"
   ]
  },
  {
   "cell_type": "code",
   "execution_count": 3,
   "metadata": {},
   "outputs": [
    {
     "data": {
      "text/plain": [
       "array([['Sunny', 'Hot', 'High', False, 'No'],\n",
       "       ['Sunny', 'Hot', 'High', True, 'No'],\n",
       "       ['Overcast', 'Hot', 'High', False, 'Yes'],\n",
       "       ['Rain', 'Mild', 'High', False, 'Yes'],\n",
       "       ['Rain', 'Cool', 'Normal', False, 'Yes'],\n",
       "       ['Rain', 'Cool', 'Normal', True, 'No'],\n",
       "       ['Overcast', 'Cool', 'Normal', True, 'Yes'],\n",
       "       ['Sunny', 'Mild', 'High', False, 'No'],\n",
       "       ['Sunny', 'Cool', 'Normal', False, 'Yes'],\n",
       "       ['Rain', 'Mild', 'Normal', False, 'Yes'],\n",
       "       ['Sunny', 'Mild', 'Normal', True, 'Yes'],\n",
       "       ['Overcast', 'Mild', 'High', True, 'Yes'],\n",
       "       ['Overcast', 'Hot', 'Normal', False, 'Yes'],\n",
       "       ['Rain', 'Mild', 'High', True, 'No']], dtype=object)"
      ]
     },
     "execution_count": 3,
     "metadata": {},
     "output_type": "execute_result"
    }
   ],
   "source": [
    "#Dataset_AR=Dataset.iloc[:,1:-1].values \n",
    "#Dataset_AR\n",
    "#dataset = pd.read_csv('cereal.csv')\n",
    "Dataset1=Dataset\n",
    "Dataset_AR=Dataset1.iloc[:,1:].values \n",
    "Dataset_AR"
   ]
  },
  {
   "cell_type": "code",
   "execution_count": 4,
   "metadata": {},
   "outputs": [
    {
     "data": {
      "text/plain": [
       "[['1', 'Sunny', 'Hot', 'High', 'False', 'No'],\n",
       " ['2', 'Sunny', 'Hot', 'High', 'True', 'No'],\n",
       " ['3', 'Overcast', 'Hot', 'High', 'False', 'Yes'],\n",
       " ['4', 'Rain', 'Mild', 'High', 'False', 'Yes'],\n",
       " ['5', 'Rain', 'Cool', 'Normal', 'False', 'Yes'],\n",
       " ['6', 'Rain', 'Cool', 'Normal', 'True', 'No'],\n",
       " ['7', 'Overcast', 'Cool', 'Normal', 'True', 'Yes'],\n",
       " ['8', 'Sunny', 'Mild', 'High', 'False', 'No'],\n",
       " ['9', 'Sunny', 'Cool', 'Normal', 'False', 'Yes'],\n",
       " ['10', 'Rain', 'Mild', 'Normal', 'False', 'Yes'],\n",
       " ['11', 'Sunny', 'Mild', 'Normal', 'True', 'Yes'],\n",
       " ['12', 'Overcast', 'Mild', 'High', 'True', 'Yes'],\n",
       " ['13', 'Overcast', 'Hot', 'Normal', 'False', 'Yes'],\n",
       " ['14', 'Rain', 'Mild', 'High', 'True', 'No']]"
      ]
     },
     "execution_count": 4,
     "metadata": {},
     "output_type": "execute_result"
    }
   ],
   "source": [
    "AR_D = []  \n",
    "for i in range(0, 14):  \n",
    "    AR_D.append([str(Dataset.values[i,j]) for j in range(0, 6)])\n",
    "AR_D"
   ]
  },
  {
   "cell_type": "code",
   "execution_count": 5,
   "metadata": {},
   "outputs": [
    {
     "data": {
      "text/plain": [
       "[RelationRecord(items=frozenset({'Cool'}), support=0.2857142857142857, ordered_statistics=[OrderedStatistic(items_base=frozenset(), items_add=frozenset({'Cool'}), confidence=0.2857142857142857, lift=1.0)]),\n",
       " RelationRecord(items=frozenset({'False'}), support=0.5714285714285714, ordered_statistics=[OrderedStatistic(items_base=frozenset(), items_add=frozenset({'False'}), confidence=0.5714285714285714, lift=1.0)]),\n",
       " RelationRecord(items=frozenset({'High'}), support=0.5, ordered_statistics=[OrderedStatistic(items_base=frozenset(), items_add=frozenset({'High'}), confidence=0.5, lift=1.0)]),\n",
       " RelationRecord(items=frozenset({'Hot'}), support=0.2857142857142857, ordered_statistics=[OrderedStatistic(items_base=frozenset(), items_add=frozenset({'Hot'}), confidence=0.2857142857142857, lift=1.0)]),\n",
       " RelationRecord(items=frozenset({'Mild'}), support=0.42857142857142855, ordered_statistics=[OrderedStatistic(items_base=frozenset(), items_add=frozenset({'Mild'}), confidence=0.42857142857142855, lift=1.0)]),\n",
       " RelationRecord(items=frozenset({'No'}), support=0.35714285714285715, ordered_statistics=[OrderedStatistic(items_base=frozenset(), items_add=frozenset({'No'}), confidence=0.35714285714285715, lift=1.0)]),\n",
       " RelationRecord(items=frozenset({'Normal'}), support=0.5, ordered_statistics=[OrderedStatistic(items_base=frozenset(), items_add=frozenset({'Normal'}), confidence=0.5, lift=1.0)]),\n",
       " RelationRecord(items=frozenset({'Overcast'}), support=0.2857142857142857, ordered_statistics=[OrderedStatistic(items_base=frozenset(), items_add=frozenset({'Overcast'}), confidence=0.2857142857142857, lift=1.0)]),\n",
       " RelationRecord(items=frozenset({'Rain'}), support=0.35714285714285715, ordered_statistics=[OrderedStatistic(items_base=frozenset(), items_add=frozenset({'Rain'}), confidence=0.35714285714285715, lift=1.0)]),\n",
       " RelationRecord(items=frozenset({'Sunny'}), support=0.35714285714285715, ordered_statistics=[OrderedStatistic(items_base=frozenset(), items_add=frozenset({'Sunny'}), confidence=0.35714285714285715, lift=1.0)]),\n",
       " RelationRecord(items=frozenset({'True'}), support=0.42857142857142855, ordered_statistics=[OrderedStatistic(items_base=frozenset(), items_add=frozenset({'True'}), confidence=0.42857142857142855, lift=1.0)]),\n",
       " RelationRecord(items=frozenset({'Yes'}), support=0.6428571428571429, ordered_statistics=[OrderedStatistic(items_base=frozenset(), items_add=frozenset({'Yes'}), confidence=0.6428571428571429, lift=1.0)]),\n",
       " RelationRecord(items=frozenset({'Normal', 'Cool'}), support=0.2857142857142857, ordered_statistics=[OrderedStatistic(items_base=frozenset({'Cool'}), items_add=frozenset({'Normal'}), confidence=1.0, lift=2.0), OrderedStatistic(items_base=frozenset({'Normal'}), items_add=frozenset({'Cool'}), confidence=0.5714285714285714, lift=2.0)]),\n",
       " RelationRecord(items=frozenset({'Yes', 'Cool'}), support=0.21428571428571427, ordered_statistics=[OrderedStatistic(items_base=frozenset({'Cool'}), items_add=frozenset({'Yes'}), confidence=0.75, lift=1.1666666666666665), OrderedStatistic(items_base=frozenset({'Yes'}), items_add=frozenset({'Cool'}), confidence=0.3333333333333333, lift=1.1666666666666667)]),\n",
       " RelationRecord(items=frozenset({'High', 'False'}), support=0.2857142857142857, ordered_statistics=[OrderedStatistic(items_base=frozenset({'False'}), items_add=frozenset({'High'}), confidence=0.5, lift=1.0), OrderedStatistic(items_base=frozenset({'High'}), items_add=frozenset({'False'}), confidence=0.5714285714285714, lift=1.0)]),\n",
       " RelationRecord(items=frozenset({'Hot', 'False'}), support=0.21428571428571427, ordered_statistics=[OrderedStatistic(items_base=frozenset({'False'}), items_add=frozenset({'Hot'}), confidence=0.375, lift=1.3125), OrderedStatistic(items_base=frozenset({'Hot'}), items_add=frozenset({'False'}), confidence=0.75, lift=1.3125)]),\n",
       " RelationRecord(items=frozenset({'Mild', 'False'}), support=0.21428571428571427, ordered_statistics=[OrderedStatistic(items_base=frozenset({'False'}), items_add=frozenset({'Mild'}), confidence=0.375, lift=0.875), OrderedStatistic(items_base=frozenset({'Mild'}), items_add=frozenset({'False'}), confidence=0.5, lift=0.875)]),\n",
       " RelationRecord(items=frozenset({'Normal', 'False'}), support=0.2857142857142857, ordered_statistics=[OrderedStatistic(items_base=frozenset({'False'}), items_add=frozenset({'Normal'}), confidence=0.5, lift=1.0), OrderedStatistic(items_base=frozenset({'Normal'}), items_add=frozenset({'False'}), confidence=0.5714285714285714, lift=1.0)]),\n",
       " RelationRecord(items=frozenset({'Rain', 'False'}), support=0.21428571428571427, ordered_statistics=[OrderedStatistic(items_base=frozenset({'False'}), items_add=frozenset({'Rain'}), confidence=0.375, lift=1.05), OrderedStatistic(items_base=frozenset({'Rain'}), items_add=frozenset({'False'}), confidence=0.6, lift=1.05)]),\n",
       " RelationRecord(items=frozenset({'Sunny', 'False'}), support=0.21428571428571427, ordered_statistics=[OrderedStatistic(items_base=frozenset({'False'}), items_add=frozenset({'Sunny'}), confidence=0.375, lift=1.05), OrderedStatistic(items_base=frozenset({'Sunny'}), items_add=frozenset({'False'}), confidence=0.6, lift=1.05)]),\n",
       " RelationRecord(items=frozenset({'Yes', 'False'}), support=0.42857142857142855, ordered_statistics=[OrderedStatistic(items_base=frozenset({'False'}), items_add=frozenset({'Yes'}), confidence=0.75, lift=1.1666666666666665), OrderedStatistic(items_base=frozenset({'Yes'}), items_add=frozenset({'False'}), confidence=0.6666666666666666, lift=1.1666666666666667)]),\n",
       " RelationRecord(items=frozenset({'High', 'Hot'}), support=0.21428571428571427, ordered_statistics=[OrderedStatistic(items_base=frozenset({'High'}), items_add=frozenset({'Hot'}), confidence=0.42857142857142855, lift=1.5), OrderedStatistic(items_base=frozenset({'Hot'}), items_add=frozenset({'High'}), confidence=0.75, lift=1.5)]),\n",
       " RelationRecord(items=frozenset({'High', 'Mild'}), support=0.2857142857142857, ordered_statistics=[OrderedStatistic(items_base=frozenset({'High'}), items_add=frozenset({'Mild'}), confidence=0.5714285714285714, lift=1.3333333333333333), OrderedStatistic(items_base=frozenset({'Mild'}), items_add=frozenset({'High'}), confidence=0.6666666666666666, lift=1.3333333333333333)]),\n",
       " RelationRecord(items=frozenset({'High', 'No'}), support=0.2857142857142857, ordered_statistics=[OrderedStatistic(items_base=frozenset({'High'}), items_add=frozenset({'No'}), confidence=0.5714285714285714, lift=1.5999999999999999), OrderedStatistic(items_base=frozenset({'No'}), items_add=frozenset({'High'}), confidence=0.7999999999999999, lift=1.5999999999999999)]),\n",
       " RelationRecord(items=frozenset({'High', 'Sunny'}), support=0.21428571428571427, ordered_statistics=[OrderedStatistic(items_base=frozenset({'High'}), items_add=frozenset({'Sunny'}), confidence=0.42857142857142855, lift=1.2), OrderedStatistic(items_base=frozenset({'Sunny'}), items_add=frozenset({'High'}), confidence=0.6, lift=1.2)]),\n",
       " RelationRecord(items=frozenset({'High', 'True'}), support=0.21428571428571427, ordered_statistics=[OrderedStatistic(items_base=frozenset({'High'}), items_add=frozenset({'True'}), confidence=0.42857142857142855, lift=1.0), OrderedStatistic(items_base=frozenset({'True'}), items_add=frozenset({'High'}), confidence=0.5, lift=1.0)]),\n",
       " RelationRecord(items=frozenset({'Yes', 'High'}), support=0.21428571428571427, ordered_statistics=[OrderedStatistic(items_base=frozenset({'High'}), items_add=frozenset({'Yes'}), confidence=0.42857142857142855, lift=0.6666666666666666), OrderedStatistic(items_base=frozenset({'Yes'}), items_add=frozenset({'High'}), confidence=0.3333333333333333, lift=0.6666666666666666)]),\n",
       " RelationRecord(items=frozenset({'Rain', 'Mild'}), support=0.21428571428571427, ordered_statistics=[OrderedStatistic(items_base=frozenset({'Mild'}), items_add=frozenset({'Rain'}), confidence=0.5, lift=1.4), OrderedStatistic(items_base=frozenset({'Rain'}), items_add=frozenset({'Mild'}), confidence=0.6, lift=1.4000000000000001)]),\n",
       " RelationRecord(items=frozenset({'True', 'Mild'}), support=0.21428571428571427, ordered_statistics=[OrderedStatistic(items_base=frozenset({'Mild'}), items_add=frozenset({'True'}), confidence=0.5, lift=1.1666666666666667), OrderedStatistic(items_base=frozenset({'True'}), items_add=frozenset({'Mild'}), confidence=0.5, lift=1.1666666666666667)]),\n",
       " RelationRecord(items=frozenset({'Yes', 'Mild'}), support=0.2857142857142857, ordered_statistics=[OrderedStatistic(items_base=frozenset({'Mild'}), items_add=frozenset({'Yes'}), confidence=0.6666666666666666, lift=1.037037037037037), OrderedStatistic(items_base=frozenset({'Yes'}), items_add=frozenset({'Mild'}), confidence=0.44444444444444436, lift=1.037037037037037)]),\n",
       " RelationRecord(items=frozenset({'Sunny', 'No'}), support=0.21428571428571427, ordered_statistics=[OrderedStatistic(items_base=frozenset({'No'}), items_add=frozenset({'Sunny'}), confidence=0.6, lift=1.68), OrderedStatistic(items_base=frozenset({'Sunny'}), items_add=frozenset({'No'}), confidence=0.6, lift=1.68)]),\n",
       " RelationRecord(items=frozenset({'True', 'No'}), support=0.21428571428571427, ordered_statistics=[OrderedStatistic(items_base=frozenset({'No'}), items_add=frozenset({'True'}), confidence=0.6, lift=1.4000000000000001), OrderedStatistic(items_base=frozenset({'True'}), items_add=frozenset({'No'}), confidence=0.5, lift=1.4)]),\n",
       " RelationRecord(items=frozenset({'Rain', 'Normal'}), support=0.21428571428571427, ordered_statistics=[OrderedStatistic(items_base=frozenset({'Normal'}), items_add=frozenset({'Rain'}), confidence=0.42857142857142855, lift=1.2), OrderedStatistic(items_base=frozenset({'Rain'}), items_add=frozenset({'Normal'}), confidence=0.6, lift=1.2)]),\n",
       " RelationRecord(items=frozenset({'Normal', 'True'}), support=0.21428571428571427, ordered_statistics=[OrderedStatistic(items_base=frozenset({'Normal'}), items_add=frozenset({'True'}), confidence=0.42857142857142855, lift=1.0), OrderedStatistic(items_base=frozenset({'True'}), items_add=frozenset({'Normal'}), confidence=0.5, lift=1.0)]),\n",
       " RelationRecord(items=frozenset({'Yes', 'Normal'}), support=0.42857142857142855, ordered_statistics=[OrderedStatistic(items_base=frozenset({'Normal'}), items_add=frozenset({'Yes'}), confidence=0.8571428571428571, lift=1.3333333333333333), OrderedStatistic(items_base=frozenset({'Yes'}), items_add=frozenset({'Normal'}), confidence=0.6666666666666666, lift=1.3333333333333333)]),\n",
       " RelationRecord(items=frozenset({'Yes', 'Overcast'}), support=0.2857142857142857, ordered_statistics=[OrderedStatistic(items_base=frozenset({'Overcast'}), items_add=frozenset({'Yes'}), confidence=1.0, lift=1.5555555555555554), OrderedStatistic(items_base=frozenset({'Yes'}), items_add=frozenset({'Overcast'}), confidence=0.44444444444444436, lift=1.5555555555555554)]),\n",
       " RelationRecord(items=frozenset({'Yes', 'Rain'}), support=0.21428571428571427, ordered_statistics=[OrderedStatistic(items_base=frozenset({'Rain'}), items_add=frozenset({'Yes'}), confidence=0.6, lift=0.9333333333333332), OrderedStatistic(items_base=frozenset({'Yes'}), items_add=frozenset({'Rain'}), confidence=0.3333333333333333, lift=0.9333333333333332)]),\n",
       " RelationRecord(items=frozenset({'Yes', 'True'}), support=0.21428571428571427, ordered_statistics=[OrderedStatistic(items_base=frozenset({'True'}), items_add=frozenset({'Yes'}), confidence=0.5, lift=0.7777777777777777), OrderedStatistic(items_base=frozenset({'Yes'}), items_add=frozenset({'True'}), confidence=0.3333333333333333, lift=0.7777777777777778)]),\n",
       " RelationRecord(items=frozenset({'Yes', 'Normal', 'Cool'}), support=0.21428571428571427, ordered_statistics=[OrderedStatistic(items_base=frozenset({'Normal', 'Cool'}), items_add=frozenset({'Yes'}), confidence=0.75, lift=1.1666666666666665), OrderedStatistic(items_base=frozenset({'Yes', 'Cool'}), items_add=frozenset({'Normal'}), confidence=1.0, lift=2.0), OrderedStatistic(items_base=frozenset({'Yes', 'Normal'}), items_add=frozenset({'Cool'}), confidence=0.5, lift=1.75)]),\n",
       " RelationRecord(items=frozenset({'Yes', 'Normal', 'False'}), support=0.2857142857142857, ordered_statistics=[OrderedStatistic(items_base=frozenset({'Normal', 'False'}), items_add=frozenset({'Yes'}), confidence=1.0, lift=1.5555555555555554), OrderedStatistic(items_base=frozenset({'Yes', 'False'}), items_add=frozenset({'Normal'}), confidence=0.6666666666666666, lift=1.3333333333333333), OrderedStatistic(items_base=frozenset({'Yes', 'Normal'}), items_add=frozenset({'False'}), confidence=0.6666666666666666, lift=1.1666666666666667)]),\n",
       " RelationRecord(items=frozenset({'Yes', 'Rain', 'False'}), support=0.21428571428571427, ordered_statistics=[OrderedStatistic(items_base=frozenset({'Rain', 'False'}), items_add=frozenset({'Yes'}), confidence=1.0, lift=1.5555555555555554), OrderedStatistic(items_base=frozenset({'Yes', 'False'}), items_add=frozenset({'Rain'}), confidence=0.5, lift=1.4), OrderedStatistic(items_base=frozenset({'Yes', 'Rain'}), items_add=frozenset({'False'}), confidence=1.0, lift=1.75)]),\n",
       " RelationRecord(items=frozenset({'High', 'Sunny', 'No'}), support=0.21428571428571427, ordered_statistics=[OrderedStatistic(items_base=frozenset({'High', 'No'}), items_add=frozenset({'Sunny'}), confidence=0.75, lift=2.1), OrderedStatistic(items_base=frozenset({'High', 'Sunny'}), items_add=frozenset({'No'}), confidence=1.0, lift=2.8), OrderedStatistic(items_base=frozenset({'Sunny', 'No'}), items_add=frozenset({'High'}), confidence=1.0, lift=2.0)])]"
      ]
     },
     "execution_count": 5,
     "metadata": {},
     "output_type": "execute_result"
    }
   ],
   "source": [
    "Dataset_AR_al = apriori(AR_D, min_support=(3/14), max_length=3)  #3/14\n",
    "AR_result = list(Dataset_AR_al)\n",
    "AR_result"
   ]
  }
 ],
 "metadata": {
  "kernelspec": {
   "display_name": "Python 3",
   "language": "python",
   "name": "python3"
  },
  "language_info": {
   "codemirror_mode": {
    "name": "ipython",
    "version": 3
   },
   "file_extension": ".py",
   "mimetype": "text/x-python",
   "name": "python",
   "nbconvert_exporter": "python",
   "pygments_lexer": "ipython3",
   "version": "3.7.3"
  }
 },
 "nbformat": 4,
 "nbformat_minor": 2
}
